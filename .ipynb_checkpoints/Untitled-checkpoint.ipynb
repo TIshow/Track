{
 "cells": [
  {
   "cell_type": "code",
   "execution_count": 1,
   "metadata": {},
   "outputs": [
    {
     "name": "stdout",
     "output_type": "stream",
     "text": [
      "Cloning into 'Track'...\n",
      "remote: Enumerating objects: 1505, done.\u001b[K\n",
      "remote: Counting objects: 100% (1505/1505), done.\u001b[Kcts:  32% (482/1505)   \u001b[K\n",
      "remote: Compressing objects: 100% (1504/1504), done.\u001b[K\n",
      "remote: Total 1505 (delta 1), reused 1505 (delta 1), pack-reused 0\u001b[K\n",
      "Receiving objects: 100% (1505/1505), 18.74 MiB | 632.00 KiB/s, done.\n",
      "Resolving deltas: 100% (1/1), done.\n"
     ]
    }
   ],
   "source": [
    "!git clone https://github.com/TIshow/Track.git"
   ]
  },
  {
   "cell_type": "code",
   "execution_count": 2,
   "metadata": {},
   "outputs": [
    {
     "name": "stdout",
     "output_type": "stream",
     "text": [
      "\u001b[34mIMG\u001b[m\u001b[m\r\n"
     ]
    }
   ],
   "source": [
    "!ls track"
   ]
  },
  {
   "cell_type": "code",
   "execution_count": 3,
   "metadata": {},
   "outputs": [
    {
     "name": "stderr",
     "output_type": "stream",
     "text": [
      "Using TensorFlow backend.\n",
      "/anaconda3/envs/ML/lib/python3.6/importlib/_bootstrap.py:219: RuntimeWarning: compiletime version 3.5 of module 'tensorflow.python.framework.fast_tensor_util' does not match runtime version 3.6\n",
      "  return f(*args, **kwds)\n"
     ]
    }
   ],
   "source": [
    "import os\n",
    "import numpy as np\n",
    "import matplotlib.pyplot as plt\n",
    "import keras\n",
    "from keras.models import Sequential\n",
    "from keras.optimizers import Adam\n",
    "from keras.layers import Conv2D, MaxPooling2D, Dropout, Flatten, Dense\n",
    "import cv2\n",
    "import pandas as pd\n",
    "import random"
   ]
  },
  {
   "cell_type": "code",
   "execution_count": 9,
   "metadata": {},
   "outputs": [
    {
     "data": {
      "text/html": [
       "<div>\n",
       "<style scoped>\n",
       "    .dataframe tbody tr th:only-of-type {\n",
       "        vertical-align: middle;\n",
       "    }\n",
       "\n",
       "    .dataframe tbody tr th {\n",
       "        vertical-align: top;\n",
       "    }\n",
       "\n",
       "    .dataframe thead th {\n",
       "        text-align: right;\n",
       "    }\n",
       "</style>\n",
       "<table border=\"1\" class=\"dataframe\">\n",
       "  <thead>\n",
       "    <tr style=\"text-align: right;\">\n",
       "      <th></th>\n",
       "      <th>center</th>\n",
       "      <th>left</th>\n",
       "      <th>right</th>\n",
       "      <th>steering</th>\n",
       "      <th>throttle</th>\n",
       "      <th>reverse</th>\n",
       "      <th>speed</th>\n",
       "    </tr>\n",
       "  </thead>\n",
       "  <tbody>\n",
       "    <tr>\n",
       "      <th>0</th>\n",
       "      <td>/Users/saitoutaishou/Desktop/data/IMG/IMG/center_2019_01_10_16_45_32_825.jpg</td>\n",
       "      <td>/Users/saitoutaishou/Desktop/data/IMG/IMG/left_2019_01_10_16_45_32_825.jpg</td>\n",
       "      <td>/Users/saitoutaishou/Desktop/data/IMG/IMG/right_2019_01_10_16_45_32_825.jpg</td>\n",
       "      <td>0.0</td>\n",
       "      <td>0.000000</td>\n",
       "      <td>0.0</td>\n",
       "      <td>4.189448</td>\n",
       "    </tr>\n",
       "    <tr>\n",
       "      <th>1</th>\n",
       "      <td>/Users/saitoutaishou/Desktop/data/IMG/IMG/center_2019_01_10_16_45_32_926.jpg</td>\n",
       "      <td>/Users/saitoutaishou/Desktop/data/IMG/IMG/left_2019_01_10_16_45_32_926.jpg</td>\n",
       "      <td>/Users/saitoutaishou/Desktop/data/IMG/IMG/right_2019_01_10_16_45_32_926.jpg</td>\n",
       "      <td>0.0</td>\n",
       "      <td>0.000000</td>\n",
       "      <td>0.0</td>\n",
       "      <td>4.147404</td>\n",
       "    </tr>\n",
       "    <tr>\n",
       "      <th>2</th>\n",
       "      <td>/Users/saitoutaishou/Desktop/data/IMG/IMG/center_2019_01_10_16_45_33_028.jpg</td>\n",
       "      <td>/Users/saitoutaishou/Desktop/data/IMG/IMG/left_2019_01_10_16_45_33_028.jpg</td>\n",
       "      <td>/Users/saitoutaishou/Desktop/data/IMG/IMG/right_2019_01_10_16_45_33_028.jpg</td>\n",
       "      <td>0.0</td>\n",
       "      <td>0.038202</td>\n",
       "      <td>0.0</td>\n",
       "      <td>4.113468</td>\n",
       "    </tr>\n",
       "    <tr>\n",
       "      <th>3</th>\n",
       "      <td>/Users/saitoutaishou/Desktop/data/IMG/IMG/center_2019_01_10_16_45_33_128.jpg</td>\n",
       "      <td>/Users/saitoutaishou/Desktop/data/IMG/IMG/left_2019_01_10_16_45_33_128.jpg</td>\n",
       "      <td>/Users/saitoutaishou/Desktop/data/IMG/IMG/right_2019_01_10_16_45_33_128.jpg</td>\n",
       "      <td>0.0</td>\n",
       "      <td>0.108177</td>\n",
       "      <td>0.0</td>\n",
       "      <td>4.201236</td>\n",
       "    </tr>\n",
       "    <tr>\n",
       "      <th>4</th>\n",
       "      <td>/Users/saitoutaishou/Desktop/data/IMG/IMG/center_2019_01_10_16_45_33_229.jpg</td>\n",
       "      <td>/Users/saitoutaishou/Desktop/data/IMG/IMG/left_2019_01_10_16_45_33_229.jpg</td>\n",
       "      <td>/Users/saitoutaishou/Desktop/data/IMG/IMG/right_2019_01_10_16_45_33_229.jpg</td>\n",
       "      <td>0.0</td>\n",
       "      <td>0.361362</td>\n",
       "      <td>0.0</td>\n",
       "      <td>4.457047</td>\n",
       "    </tr>\n",
       "  </tbody>\n",
       "</table>\n",
       "</div>"
      ],
      "text/plain": [
       "                                                                         center  \\\n",
       "0  /Users/saitoutaishou/Desktop/data/IMG/IMG/center_2019_01_10_16_45_32_825.jpg   \n",
       "1  /Users/saitoutaishou/Desktop/data/IMG/IMG/center_2019_01_10_16_45_32_926.jpg   \n",
       "2  /Users/saitoutaishou/Desktop/data/IMG/IMG/center_2019_01_10_16_45_33_028.jpg   \n",
       "3  /Users/saitoutaishou/Desktop/data/IMG/IMG/center_2019_01_10_16_45_33_128.jpg   \n",
       "4  /Users/saitoutaishou/Desktop/data/IMG/IMG/center_2019_01_10_16_45_33_229.jpg   \n",
       "\n",
       "                                                                          left  \\\n",
       "0   /Users/saitoutaishou/Desktop/data/IMG/IMG/left_2019_01_10_16_45_32_825.jpg   \n",
       "1   /Users/saitoutaishou/Desktop/data/IMG/IMG/left_2019_01_10_16_45_32_926.jpg   \n",
       "2   /Users/saitoutaishou/Desktop/data/IMG/IMG/left_2019_01_10_16_45_33_028.jpg   \n",
       "3   /Users/saitoutaishou/Desktop/data/IMG/IMG/left_2019_01_10_16_45_33_128.jpg   \n",
       "4   /Users/saitoutaishou/Desktop/data/IMG/IMG/left_2019_01_10_16_45_33_229.jpg   \n",
       "\n",
       "                                                                          right  \\\n",
       "0   /Users/saitoutaishou/Desktop/data/IMG/IMG/right_2019_01_10_16_45_32_825.jpg   \n",
       "1   /Users/saitoutaishou/Desktop/data/IMG/IMG/right_2019_01_10_16_45_32_926.jpg   \n",
       "2   /Users/saitoutaishou/Desktop/data/IMG/IMG/right_2019_01_10_16_45_33_028.jpg   \n",
       "3   /Users/saitoutaishou/Desktop/data/IMG/IMG/right_2019_01_10_16_45_33_128.jpg   \n",
       "4   /Users/saitoutaishou/Desktop/data/IMG/IMG/right_2019_01_10_16_45_33_229.jpg   \n",
       "\n",
       "   steering  throttle  reverse     speed  \n",
       "0  0.0       0.000000  0.0      4.189448  \n",
       "1  0.0       0.000000  0.0      4.147404  \n",
       "2  0.0       0.038202  0.0      4.113468  \n",
       "3  0.0       0.108177  0.0      4.201236  \n",
       "4  0.0       0.361362  0.0      4.457047  "
      ]
     },
     "execution_count": 9,
     "metadata": {},
     "output_type": "execute_result"
    }
   ],
   "source": [
    "datadir = 'track/IMG'\n",
    "columns = ['center', 'left', 'right', 'steering', 'throttle', 'reverse', 'speed']\n",
    "data = pd.read_csv(os.path.join(datadir, 'driving_log.csv'), names = columns)\n",
    "pd.set_option('display.max_colwidth', -1)\n",
    "data.head()"
   ]
  },
  {
   "cell_type": "code",
   "execution_count": 10,
   "metadata": {},
   "outputs": [
    {
     "data": {
      "text/plain": [
       "0      /Users/saitoutaishou/Desktop/data/IMG/IMG/center_2019_01_10_16_45_32_825.jpg\n",
       "1      /Users/saitoutaishou/Desktop/data/IMG/IMG/center_2019_01_10_16_45_32_926.jpg\n",
       "2      /Users/saitoutaishou/Desktop/data/IMG/IMG/center_2019_01_10_16_45_33_028.jpg\n",
       "3      /Users/saitoutaishou/Desktop/data/IMG/IMG/center_2019_01_10_16_45_33_128.jpg\n",
       "4      /Users/saitoutaishou/Desktop/data/IMG/IMG/center_2019_01_10_16_45_33_229.jpg\n",
       "5      /Users/saitoutaishou/Desktop/data/IMG/IMG/center_2019_01_10_16_45_33_342.jpg\n",
       "6      /Users/saitoutaishou/Desktop/data/IMG/IMG/center_2019_01_10_16_45_33_443.jpg\n",
       "7      /Users/saitoutaishou/Desktop/data/IMG/IMG/center_2019_01_10_16_45_33_543.jpg\n",
       "8      /Users/saitoutaishou/Desktop/data/IMG/IMG/center_2019_01_10_16_45_33_646.jpg\n",
       "9      /Users/saitoutaishou/Desktop/data/IMG/IMG/center_2019_01_10_16_45_33_746.jpg\n",
       "10     /Users/saitoutaishou/Desktop/data/IMG/IMG/center_2019_01_10_16_45_33_847.jpg\n",
       "11     /Users/saitoutaishou/Desktop/data/IMG/IMG/center_2019_01_10_16_45_33_959.jpg\n",
       "12     /Users/saitoutaishou/Desktop/data/IMG/IMG/center_2019_01_10_16_45_34_059.jpg\n",
       "13     /Users/saitoutaishou/Desktop/data/IMG/IMG/center_2019_01_10_16_45_34_163.jpg\n",
       "14     /Users/saitoutaishou/Desktop/data/IMG/IMG/center_2019_01_10_16_45_34_263.jpg\n",
       "15     /Users/saitoutaishou/Desktop/data/IMG/IMG/center_2019_01_10_16_45_34_365.jpg\n",
       "16     /Users/saitoutaishou/Desktop/data/IMG/IMG/center_2019_01_10_16_45_34_476.jpg\n",
       "17     /Users/saitoutaishou/Desktop/data/IMG/IMG/center_2019_01_10_16_45_34_578.jpg\n",
       "18     /Users/saitoutaishou/Desktop/data/IMG/IMG/center_2019_01_10_16_45_34_681.jpg\n",
       "19     /Users/saitoutaishou/Desktop/data/IMG/IMG/center_2019_01_10_16_45_34_781.jpg\n",
       "20     /Users/saitoutaishou/Desktop/data/IMG/IMG/center_2019_01_10_16_45_34_892.jpg\n",
       "21     /Users/saitoutaishou/Desktop/data/IMG/IMG/center_2019_01_10_16_45_34_996.jpg\n",
       "22     /Users/saitoutaishou/Desktop/data/IMG/IMG/center_2019_01_10_16_45_35_097.jpg\n",
       "23     /Users/saitoutaishou/Desktop/data/IMG/IMG/center_2019_01_10_16_45_35_212.jpg\n",
       "24     /Users/saitoutaishou/Desktop/data/IMG/IMG/center_2019_01_10_16_45_35_313.jpg\n",
       "25     /Users/saitoutaishou/Desktop/data/IMG/IMG/center_2019_01_10_16_45_35_426.jpg\n",
       "26     /Users/saitoutaishou/Desktop/data/IMG/IMG/center_2019_01_10_16_45_35_531.jpg\n",
       "27     /Users/saitoutaishou/Desktop/data/IMG/IMG/center_2019_01_10_16_45_35_632.jpg\n",
       "28     /Users/saitoutaishou/Desktop/data/IMG/IMG/center_2019_01_10_16_45_35_733.jpg\n",
       "29     /Users/saitoutaishou/Desktop/data/IMG/IMG/center_2019_01_10_16_45_35_834.jpg\n",
       "                                           ...                                     \n",
       "475    /Users/saitoutaishou/Desktop/data/IMG/IMG/center_2019_01_10_16_46_25_230.jpg\n",
       "476    /Users/saitoutaishou/Desktop/data/IMG/IMG/center_2019_01_10_16_46_25_344.jpg\n",
       "477    /Users/saitoutaishou/Desktop/data/IMG/IMG/center_2019_01_10_16_46_25_448.jpg\n",
       "478    /Users/saitoutaishou/Desktop/data/IMG/IMG/center_2019_01_10_16_46_25_549.jpg\n",
       "479    /Users/saitoutaishou/Desktop/data/IMG/IMG/center_2019_01_10_16_46_25_688.jpg\n",
       "480    /Users/saitoutaishou/Desktop/data/IMG/IMG/center_2019_01_10_16_46_25_795.jpg\n",
       "481    /Users/saitoutaishou/Desktop/data/IMG/IMG/center_2019_01_10_16_46_25_911.jpg\n",
       "482    /Users/saitoutaishou/Desktop/data/IMG/IMG/center_2019_01_10_16_46_26_028.jpg\n",
       "483    /Users/saitoutaishou/Desktop/data/IMG/IMG/center_2019_01_10_16_46_26_143.jpg\n",
       "484    /Users/saitoutaishou/Desktop/data/IMG/IMG/center_2019_01_10_16_46_26_243.jpg\n",
       "485    /Users/saitoutaishou/Desktop/data/IMG/IMG/center_2019_01_10_16_46_26_360.jpg\n",
       "486    /Users/saitoutaishou/Desktop/data/IMG/IMG/center_2019_01_10_16_46_26_477.jpg\n",
       "487    /Users/saitoutaishou/Desktop/data/IMG/IMG/center_2019_01_10_16_46_26_589.jpg\n",
       "488    /Users/saitoutaishou/Desktop/data/IMG/IMG/center_2019_01_10_16_46_26_692.jpg\n",
       "489    /Users/saitoutaishou/Desktop/data/IMG/IMG/center_2019_01_10_16_46_26_792.jpg\n",
       "490    /Users/saitoutaishou/Desktop/data/IMG/IMG/center_2019_01_10_16_46_26_895.jpg\n",
       "491    /Users/saitoutaishou/Desktop/data/IMG/IMG/center_2019_01_10_16_46_26_996.jpg\n",
       "492    /Users/saitoutaishou/Desktop/data/IMG/IMG/center_2019_01_10_16_46_27_110.jpg\n",
       "493    /Users/saitoutaishou/Desktop/data/IMG/IMG/center_2019_01_10_16_46_27_211.jpg\n",
       "494    /Users/saitoutaishou/Desktop/data/IMG/IMG/center_2019_01_10_16_46_27_311.jpg\n",
       "495    /Users/saitoutaishou/Desktop/data/IMG/IMG/center_2019_01_10_16_46_27_449.jpg\n",
       "496    /Users/saitoutaishou/Desktop/data/IMG/IMG/center_2019_01_10_16_46_27_569.jpg\n",
       "497    /Users/saitoutaishou/Desktop/data/IMG/IMG/center_2019_01_10_16_46_27_692.jpg\n",
       "498    /Users/saitoutaishou/Desktop/data/IMG/IMG/center_2019_01_10_16_46_27_831.jpg\n",
       "499    /Users/saitoutaishou/Desktop/data/IMG/IMG/center_2019_01_10_16_46_27_936.jpg\n",
       "500    /Users/saitoutaishou/Desktop/data/IMG/IMG/center_2019_01_10_16_46_28_040.jpg\n",
       "501    /Users/saitoutaishou/Desktop/data/IMG/IMG/center_2019_01_10_16_46_28_554.jpg\n",
       "502    /Users/saitoutaishou/Desktop/data/IMG/IMG/center_2019_01_10_16_46_28_655.jpg\n",
       "503    /Users/saitoutaishou/Desktop/data/IMG/IMG/center_2019_01_10_16_46_28_759.jpg\n",
       "504    /Users/saitoutaishou/Desktop/data/IMG/IMG/center_2019_01_10_16_46_28_896.jpg\n",
       "Name: center, Length: 505, dtype: object"
      ]
     },
     "execution_count": 10,
     "metadata": {},
     "output_type": "execute_result"
    }
   ],
   "source": [
    "data['center']"
   ]
  },
  {
   "cell_type": "code",
   "execution_count": 16,
   "metadata": {},
   "outputs": [
    {
     "data": {
      "text/html": [
       "<div>\n",
       "<style scoped>\n",
       "    .dataframe tbody tr th:only-of-type {\n",
       "        vertical-align: middle;\n",
       "    }\n",
       "\n",
       "    .dataframe tbody tr th {\n",
       "        vertical-align: top;\n",
       "    }\n",
       "\n",
       "    .dataframe thead th {\n",
       "        text-align: right;\n",
       "    }\n",
       "</style>\n",
       "<table border=\"1\" class=\"dataframe\">\n",
       "  <thead>\n",
       "    <tr style=\"text-align: right;\">\n",
       "      <th></th>\n",
       "      <th>center</th>\n",
       "      <th>left</th>\n",
       "      <th>right</th>\n",
       "      <th>steering</th>\n",
       "      <th>throttle</th>\n",
       "      <th>reverse</th>\n",
       "      <th>speed</th>\n",
       "    </tr>\n",
       "  </thead>\n",
       "  <tbody>\n",
       "    <tr>\n",
       "      <th>0</th>\n",
       "      <td>center_2019_01_10_16_45_32_825.jpg</td>\n",
       "      <td>left_2019_01_10_16_45_32_825.jpg</td>\n",
       "      <td>right_2019_01_10_16_45_32_825.jpg</td>\n",
       "      <td>0.0</td>\n",
       "      <td>0.000000</td>\n",
       "      <td>0.0</td>\n",
       "      <td>4.189448</td>\n",
       "    </tr>\n",
       "    <tr>\n",
       "      <th>1</th>\n",
       "      <td>center_2019_01_10_16_45_32_926.jpg</td>\n",
       "      <td>left_2019_01_10_16_45_32_926.jpg</td>\n",
       "      <td>right_2019_01_10_16_45_32_926.jpg</td>\n",
       "      <td>0.0</td>\n",
       "      <td>0.000000</td>\n",
       "      <td>0.0</td>\n",
       "      <td>4.147404</td>\n",
       "    </tr>\n",
       "    <tr>\n",
       "      <th>2</th>\n",
       "      <td>center_2019_01_10_16_45_33_028.jpg</td>\n",
       "      <td>left_2019_01_10_16_45_33_028.jpg</td>\n",
       "      <td>right_2019_01_10_16_45_33_028.jpg</td>\n",
       "      <td>0.0</td>\n",
       "      <td>0.038202</td>\n",
       "      <td>0.0</td>\n",
       "      <td>4.113468</td>\n",
       "    </tr>\n",
       "    <tr>\n",
       "      <th>3</th>\n",
       "      <td>center_2019_01_10_16_45_33_128.jpg</td>\n",
       "      <td>left_2019_01_10_16_45_33_128.jpg</td>\n",
       "      <td>right_2019_01_10_16_45_33_128.jpg</td>\n",
       "      <td>0.0</td>\n",
       "      <td>0.108177</td>\n",
       "      <td>0.0</td>\n",
       "      <td>4.201236</td>\n",
       "    </tr>\n",
       "    <tr>\n",
       "      <th>4</th>\n",
       "      <td>center_2019_01_10_16_45_33_229.jpg</td>\n",
       "      <td>left_2019_01_10_16_45_33_229.jpg</td>\n",
       "      <td>right_2019_01_10_16_45_33_229.jpg</td>\n",
       "      <td>0.0</td>\n",
       "      <td>0.361362</td>\n",
       "      <td>0.0</td>\n",
       "      <td>4.457047</td>\n",
       "    </tr>\n",
       "  </tbody>\n",
       "</table>\n",
       "</div>"
      ],
      "text/plain": [
       "                               center                              left  \\\n",
       "0  center_2019_01_10_16_45_32_825.jpg  left_2019_01_10_16_45_32_825.jpg   \n",
       "1  center_2019_01_10_16_45_32_926.jpg  left_2019_01_10_16_45_32_926.jpg   \n",
       "2  center_2019_01_10_16_45_33_028.jpg  left_2019_01_10_16_45_33_028.jpg   \n",
       "3  center_2019_01_10_16_45_33_128.jpg  left_2019_01_10_16_45_33_128.jpg   \n",
       "4  center_2019_01_10_16_45_33_229.jpg  left_2019_01_10_16_45_33_229.jpg   \n",
       "\n",
       "                               right  steering  throttle  reverse     speed  \n",
       "0  right_2019_01_10_16_45_32_825.jpg  0.0       0.000000  0.0      4.189448  \n",
       "1  right_2019_01_10_16_45_32_926.jpg  0.0       0.000000  0.0      4.147404  \n",
       "2  right_2019_01_10_16_45_33_028.jpg  0.0       0.038202  0.0      4.113468  \n",
       "3  right_2019_01_10_16_45_33_128.jpg  0.0       0.108177  0.0      4.201236  \n",
       "4  right_2019_01_10_16_45_33_229.jpg  0.0       0.361362  0.0      4.457047  "
      ]
     },
     "execution_count": 16,
     "metadata": {},
     "output_type": "execute_result"
    }
   ],
   "source": [
    "import ntpath\n",
    "\n",
    "def path_leaf(path):\n",
    "    head, tail =ntpath.split(path)\n",
    "    #print(head)\n",
    "    #print(tail)\n",
    "    return tail\n",
    "\n",
    "data['center'] = data['center'].apply(path_leaf)\n",
    "data['right'] = data['right'].apply(path_leaf)\n",
    "data['left'] = data['left'].apply(path_leaf)\n",
    "data.head()"
   ]
  },
  {
   "cell_type": "code",
   "execution_count": 20,
   "metadata": {},
   "outputs": [
    {
     "data": {
      "text/plain": [
       "[<matplotlib.lines.Line2D at 0x121cc9780>]"
      ]
     },
     "execution_count": 20,
     "metadata": {},
     "output_type": "execute_result"
    },
    {
     "data": {
      "image/png": "[encoded data removed]",
      "text/plain": [
       "<Figure size 432x288 with 1 Axes>"
      ]
     },
     "metadata": {},
     "output_type": "display_data"
    }
   ],
   "source": [
    "num_bins = 25\n",
    "samples_per_bin = 200\n",
    "hist, bins = np.histogram(data['steering'], num_bins)\n",
    "center = (bins[:-1] + bins[1:]) * 0.5\n",
    "plt.bar(center, hist, width=0.05)\n",
    "plt.plot((np.min(data['steering']), np.max(data['steering'])), (samples_per_bin, samples_per_bin))"
   ]
  },
  {
   "cell_type": "code",
   "execution_count": 21,
   "metadata": {},
   "outputs": [
    {
     "data": {
      "text/plain": [
       "-1.0"
      ]
     },
     "execution_count": 21,
     "metadata": {},
     "output_type": "execute_result"
    }
   ],
   "source": [
    "bins[0]"
   ]
  },
  {
   "cell_type": "code",
   "execution_count": 22,
   "metadata": {},
   "outputs": [
    {
     "data": {
      "text/plain": [
       "-0.19999999999999996"
      ]
     },
     "execution_count": 22,
     "metadata": {},
     "output_type": "execute_result"
    }
   ],
   "source": [
    "bins[10]"
   ]
  },
  {
   "cell_type": "code",
   "execution_count": null,
   "metadata": {},
   "outputs": [],
   "source": [
    "remove_list = []"
   ]
  }
 ],
 "metadata": {
  "kernelspec": {
   "display_name": "Python 3",
   "language": "python",
   "name": "python3"
  },
  "language_info": {
   "codemirror_mode": {
    "name": "ipython",
    "version": 3
   },
   "file_extension": ".py",
   "mimetype": "text/x-python",
   "name": "python",
   "nbconvert_exporter": "python",
   "pygments_lexer": "ipython3",
   "version": "3.6.5"
  }
 },
 "nbformat": 4,
 "nbformat_minor": 2
}
